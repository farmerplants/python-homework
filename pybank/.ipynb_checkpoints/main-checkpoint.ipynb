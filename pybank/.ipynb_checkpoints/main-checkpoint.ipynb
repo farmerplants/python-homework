{
 "cells": [
  {
   "cell_type": "code",
   "execution_count": 36,
   "id": "0e819247-2bab-43aa-8efd-1c82287b1ccf",
   "metadata": {},
   "outputs": [],
   "source": [
    "#imports\n",
    "\n",
    "import os\n",
    "import csv\n",
    "from pathlib import Path\n",
    "import pandas as pd"
   ]
  },
  {
   "cell_type": "code",
   "execution_count": 37,
   "id": "eac62469-970a-4097-b3db-e56e3653c708",
   "metadata": {},
   "outputs": [],
   "source": [
    "#filepath\n",
    "csvpath = os.path.join(\"/Users\", \"tylerhubbard\", \"Downloads\", \"budget_data.csv\")"
   ]
  },
  {
   "cell_type": "code",
   "execution_count": 53,
   "id": "2c42b674-45b1-4d5e-9c5b-c49f50862c22",
   "metadata": {},
   "outputs": [
    {
     "data": {
      "text/html": [
       "<div>\n",
       "<style scoped>\n",
       "    .dataframe tbody tr th:only-of-type {\n",
       "        vertical-align: middle;\n",
       "    }\n",
       "\n",
       "    .dataframe tbody tr th {\n",
       "        vertical-align: top;\n",
       "    }\n",
       "\n",
       "    .dataframe thead th {\n",
       "        text-align: right;\n",
       "    }\n",
       "</style>\n",
       "<table border=\"1\" class=\"dataframe\">\n",
       "  <thead>\n",
       "    <tr style=\"text-align: right;\">\n",
       "      <th></th>\n",
       "      <th>Date</th>\n",
       "      <th>Profit/Losses</th>\n",
       "    </tr>\n",
       "  </thead>\n",
       "  <tbody>\n",
       "    <tr>\n",
       "      <th>0</th>\n",
       "      <td>Jan-2010</td>\n",
       "      <td>867884</td>\n",
       "    </tr>\n",
       "    <tr>\n",
       "      <th>1</th>\n",
       "      <td>Feb-2010</td>\n",
       "      <td>984655</td>\n",
       "    </tr>\n",
       "    <tr>\n",
       "      <th>2</th>\n",
       "      <td>Mar-2010</td>\n",
       "      <td>322013</td>\n",
       "    </tr>\n",
       "    <tr>\n",
       "      <th>3</th>\n",
       "      <td>Apr-2010</td>\n",
       "      <td>-69417</td>\n",
       "    </tr>\n",
       "    <tr>\n",
       "      <th>4</th>\n",
       "      <td>May-2010</td>\n",
       "      <td>310503</td>\n",
       "    </tr>\n",
       "    <tr>\n",
       "      <th>...</th>\n",
       "      <td>...</td>\n",
       "      <td>...</td>\n",
       "    </tr>\n",
       "    <tr>\n",
       "      <th>80</th>\n",
       "      <td>Sep-2016</td>\n",
       "      <td>768450</td>\n",
       "    </tr>\n",
       "    <tr>\n",
       "      <th>81</th>\n",
       "      <td>Oct-2016</td>\n",
       "      <td>102685</td>\n",
       "    </tr>\n",
       "    <tr>\n",
       "      <th>82</th>\n",
       "      <td>Nov-2016</td>\n",
       "      <td>795914</td>\n",
       "    </tr>\n",
       "    <tr>\n",
       "      <th>83</th>\n",
       "      <td>Dec-2016</td>\n",
       "      <td>60988</td>\n",
       "    </tr>\n",
       "    <tr>\n",
       "      <th>84</th>\n",
       "      <td>Jan-2017</td>\n",
       "      <td>138230</td>\n",
       "    </tr>\n",
       "  </tbody>\n",
       "</table>\n",
       "<p>85 rows × 2 columns</p>\n",
       "</div>"
      ],
      "text/plain": [
       "        Date  Profit/Losses\n",
       "0   Jan-2010         867884\n",
       "1   Feb-2010         984655\n",
       "2   Mar-2010         322013\n",
       "3   Apr-2010         -69417\n",
       "4   May-2010         310503\n",
       "..       ...            ...\n",
       "80  Sep-2016         768450\n",
       "81  Oct-2016         102685\n",
       "82  Nov-2016         795914\n",
       "83  Dec-2016          60988\n",
       "84  Jan-2017         138230\n",
       "\n",
       "[85 rows x 2 columns]"
      ]
     },
     "execution_count": 53,
     "metadata": {},
     "output_type": "execute_result"
    }
   ],
   "source": [
    "budgetdf = pd.read_csv(csvpath)\n",
    "budgetdf.head(-1)"
   ]
  },
  {
   "cell_type": "code",
   "execution_count": 61,
   "id": "11ea0131-e858-41c5-a6bb-b737db0671b8",
   "metadata": {},
   "outputs": [
    {
     "name": "stdout",
     "output_type": "stream",
     "text": [
      "86\n"
     ]
    }
   ],
   "source": [
    "#calculate the total number of months in the dataset\n",
    "total_months = budgetdf['Date'].count()\n",
    "print (total_months)"
   ]
  },
  {
   "cell_type": "code",
   "execution_count": 63,
   "id": "fc6b65b2-e4d8-4044-aad2-45b180fd162a",
   "metadata": {},
   "outputs": [
    {
     "name": "stdout",
     "output_type": "stream",
     "text": [
      "38382578\n"
     ]
    }
   ],
   "source": [
    "#calculate the net total pnl\n",
    "net_pnl = budgetdf['Profit/Losses'].sum()\n",
    "print (net_pnl)"
   ]
  },
  {
   "cell_type": "code",
   "execution_count": 64,
   "id": "851b1b84-e7a0-4a4d-b660-33b788482b4f",
   "metadata": {},
   "outputs": [
    {
     "name": "stdout",
     "output_type": "stream",
     "text": [
      "446309.0465116279\n"
     ]
    }
   ],
   "source": [
    "#calculate the average of the changes in pnl\n",
    "avg_pnl = budgetdf['Profit/Losses'].mean()\n",
    "print (avg_pnl)"
   ]
  },
  {
   "cell_type": "code",
   "execution_count": 66,
   "id": "949365fa-c683-4d93-8d3e-92db17aa7369",
   "metadata": {},
   "outputs": [
    {
     "name": "stdout",
     "output_type": "stream",
     "text": [
      "1170593\n"
     ]
    }
   ],
   "source": [
    "#calculate the greatest increase (date/amt)\n",
    "pnl_increase = budgetdf['Profit/Losses'].max()\n",
    "print (pnl_increase)"
   ]
  },
  {
   "cell_type": "code",
   "execution_count": 67,
   "id": "4ddd12de-fa55-4142-8a30-d0bd7557a7bc",
   "metadata": {},
   "outputs": [
    {
     "name": "stdout",
     "output_type": "stream",
     "text": [
      "-1196225\n"
     ]
    }
   ],
   "source": [
    "#calculate the greatest decrease (date/amt)\n",
    "pnl_decrease = budgetdf['Profit/Losses'].min()\n",
    "print (pnl_decrease)"
   ]
  },
  {
   "cell_type": "code",
   "execution_count": null,
   "id": "3c10836e-5471-4c09-86b4-368f0b65be27",
   "metadata": {},
   "outputs": [],
   "source": []
  }
 ],
 "metadata": {
  "kernelspec": {
   "display_name": "Python 3 (ipykernel)",
   "language": "python",
   "name": "python3"
  },
  "language_info": {
   "codemirror_mode": {
    "name": "ipython",
    "version": 3
   },
   "file_extension": ".py",
   "mimetype": "text/x-python",
   "name": "python",
   "nbconvert_exporter": "python",
   "pygments_lexer": "ipython3",
   "version": "3.9.7"
  }
 },
 "nbformat": 4,
 "nbformat_minor": 5
}
