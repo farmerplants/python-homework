{
 "cells": [
  {
   "cell_type": "code",
   "execution_count": 80,
   "id": "45f39a7b-f608-4641-873c-24d32f8fedec",
   "metadata": {},
   "outputs": [],
   "source": [
    "#imports\n",
    "\n",
    "import csv\n",
    "from pathlib import Path"
   ]
  },
  {
   "cell_type": "code",
   "execution_count": 81,
   "id": "e27a35ff-f180-4f2c-9a33-77a742377a10",
   "metadata": {},
   "outputs": [],
   "source": [
    "#csvpath\n",
    "csvpath = Path('/Users/', 'tylerhubbard', 'Downloads', 'budget_data.csv')"
   ]
  },
  {
   "cell_type": "code",
   "execution_count": 82,
   "id": "89b18ef1-f928-4b1b-bf67-29b01bc21ee4",
   "metadata": {},
   "outputs": [],
   "source": [
    "#initialize variables\n",
    "\n",
    "#total months\n",
    "tot_months = 0\n",
    "\n",
    "#net total amount of PnL over total period\n",
    "net_pnl = 0\n",
    "\n",
    "#average of the changes in PnL over total period\n",
    "#changes in PnL I think would be (PnL2-PnL1) in which PnL1 is the previous amount/PnL2 is the current amount\n",
    "#starting with second date, can't do PnL1-PnL0\n",
    "#over total period...(total(PnL2-PnL1)/(tot_months-1)) (?? or would it just be /(tot_months) ??)\n",
    "change = 0\n",
    "avg_change = 0\n",
    "pnl1 = 0\n",
    "pnl2 = 0\n",
    "\n",
    "#greatest increase/decrease in profits (date and amount) over total period\n",
    "pnl_max = 0\n",
    "pnl_min = 0\n",
    "pnl_max_month = ''\n",
    "pnl_min_month = ''\n",
    "\n",
    "#resulting analysis\n",
    "final_output = ''\n",
    "\n"
   ]
  },
  {
   "cell_type": "code",
   "execution_count": 83,
   "id": "c2a9069b-82ea-4f99-bd9f-19c1f8c32ed4",
   "metadata": {},
   "outputs": [],
   "source": [
    "#lets try again\n",
    "with open(csvpath, 'r') as csvf:\n",
    "    csvr = csv.reader(csvf, delimiter=',')\n",
    "    next(csvr)\n",
    "    for row in csvr:\n",
    "        pnl2 = int(row[1])\n",
    "        if pnl1 != 0:\n",
    "            change = pnl2 - pnl1\n",
    "            avg_change = avg_change + change\n",
    "        net_pnl = net_pnl + pnl2\n",
    "        tot_months = tot_months + 1\n",
    "        if change > pnl_max:\n",
    "            pnl_max = change\n",
    "            pnl_max_month = row[0]\n",
    "        elif change < pnl_min:\n",
    "            pnl_min = change\n",
    "            pnl_min_month = row[0]\n",
    "        pnl1 = pnl2"
   ]
  },
  {
   "cell_type": "code",
   "execution_count": 84,
   "id": "e8430d15-efd7-40a3-9484-62345d1fcf10",
   "metadata": {},
   "outputs": [],
   "source": [
    "final_output = (\n",
    "    f'Financial Analysis\\n'\n",
    "    f'------------------\\n'\n",
    "    f'Total Months: {tot_months}\\n'\n",
    "    f'Total: {net_pnl}\\n'\n",
    "    f'Average Change: ${round(avg_change / (tot_months - 1), 2)}\\n'\n",
    "    f'Greatest Increase in Profits: {pnl_max_month} (${pnl_max})\\n'\n",
    "    f'Greatest Decrease in Profits: {pnl_min_month} (${pnl_min})\\n'\n",
    ")"
   ]
  },
  {
   "cell_type": "code",
   "execution_count": 85,
   "id": "8fc11b11-1e8b-4207-b39d-aa27c8eb23b7",
   "metadata": {},
   "outputs": [
    {
     "name": "stdout",
     "output_type": "stream",
     "text": [
      "Financial Analysis\n",
      "------------------\n",
      "Total Months: 86\n",
      "Total: 38382578\n",
      "Average Change: $-2315.12\n",
      "Greatest Increase in Profits: Feb-2012 ($1926159)\n",
      "Greatest Decrease in Profits: Sep-2013 ($-2196167)\n",
      "\n"
     ]
    }
   ],
   "source": [
    "print(final_output)"
   ]
  },
  {
   "cell_type": "code",
   "execution_count": 64,
   "id": "2614af43-f5f7-4590-b365-efe35c15eac8",
   "metadata": {},
   "outputs": [],
   "source": [
    "#well thats something at least"
   ]
  },
  {
   "cell_type": "code",
   "execution_count": 77,
   "id": "fb1e4f0a-c525-43c4-961f-87f734a4eb88",
   "metadata": {},
   "outputs": [],
   "source": [
    "#LITERALLY THE ISSUE WAS THAT I HAD PANDAS IMPORTED\n",
    "#ugh thank god"
   ]
  },
  {
   "cell_type": "code",
   "execution_count": 86,
   "id": "f2d34f25-d5e0-4012-8a66-ca09584ca357",
   "metadata": {},
   "outputs": [],
   "source": [
    "#oh fk wait I still gotta do the text file\n",
    "\n",
    "final_output_path = Path('/Users', 'tylerhubbard', 'umnfintech', 'python-homework', 'pybank', 'final_output.txt')"
   ]
  },
  {
   "cell_type": "code",
   "execution_count": 87,
   "id": "6e9517a0-5fa6-42eb-b689-1f57fdbcd83b",
   "metadata": {},
   "outputs": [],
   "source": [
    "with open(final_output_path, 'w') as file:\n",
    "    file.write(final_output)"
   ]
  },
  {
   "cell_type": "code",
   "execution_count": null,
   "id": "a4b63916-5c23-4505-b3e3-f5fe90011afd",
   "metadata": {},
   "outputs": [],
   "source": []
  }
 ],
 "metadata": {
  "kernelspec": {
   "display_name": "Python 3 (ipykernel)",
   "language": "python",
   "name": "python3"
  },
  "language_info": {
   "codemirror_mode": {
    "name": "ipython",
    "version": 3
   },
   "file_extension": ".py",
   "mimetype": "text/x-python",
   "name": "python",
   "nbconvert_exporter": "python",
   "pygments_lexer": "ipython3",
   "version": "3.9.7"
  }
 },
 "nbformat": 4,
 "nbformat_minor": 5
}
