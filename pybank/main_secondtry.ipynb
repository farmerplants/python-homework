{
 "cells": [
  {
   "cell_type": "code",
   "execution_count": 5,
   "id": "45f39a7b-f608-4641-873c-24d32f8fedec",
   "metadata": {},
   "outputs": [],
   "source": [
    "#imports\n",
    "\n",
    "import csv\n",
    "from pathlib import Path\n",
    "import pandas as pd"
   ]
  },
  {
   "cell_type": "code",
   "execution_count": 18,
   "id": "e27a35ff-f180-4f2c-9a33-77a742377a10",
   "metadata": {},
   "outputs": [],
   "source": [
    "#csvpath\n",
    "csvpath = Path('/Users/', 'tylerhubbard', 'Downloads', 'budget_data.csv')"
   ]
  },
  {
   "cell_type": "code",
   "execution_count": 11,
   "id": "89b18ef1-f928-4b1b-bf67-29b01bc21ee4",
   "metadata": {},
   "outputs": [],
   "source": [
    "#variables\n",
    "tot_months = 0\n",
    "net_pnl = 0\n",
    "pnl_inc = 0\n",
    "pnl_dec = 0\n",
    "pnl_inc_month = ''\n",
    "pnl_dec_month = ''\n",
    "final_output = ''"
   ]
  },
  {
   "cell_type": "code",
   "execution_count": 20,
   "id": "c2a9069b-82ea-4f99-bd9f-19c1f8c32ed4",
   "metadata": {},
   "outputs": [],
   "source": [
    "#try to figure this out\n",
    "with open(csvpath, 'r') as csvf:\n",
    "    csvr = csv.reader(csvf, delimiter=',')\n",
    "    next(csvr)\n",
    "    for row in csvr:\n",
    "        pnl = int(row[1])\n",
    "        tot_months = tot_months + 1\n",
    "        net_pnl = net_pnl + pnl\n",
    "        if pnl > pnl_inc:\n",
    "            pnl_inc_month = row[0]\n",
    "            pnl_inc = pnl\n",
    "        elif pnl < pnl_dec:\n",
    "            pnl_dec_month = row[0]\n",
    "            pnl_dec = pnl"
   ]
  },
  {
   "cell_type": "code",
   "execution_count": 21,
   "id": "263b9091-6e39-4bb9-bf15-3aa28672fa9b",
   "metadata": {},
   "outputs": [],
   "source": [
    "#did I actually just get that through? holy heck if that's right..."
   ]
  },
  {
   "cell_type": "code",
   "execution_count": 22,
   "id": "c35587d2-7282-42b0-92f9-48383b46514c",
   "metadata": {},
   "outputs": [],
   "source": [
    "#I should probably save my progress before I feck it up again"
   ]
  },
  {
   "cell_type": "code",
   "execution_count": 23,
   "id": "ac55f025-ee93-40a2-819b-9e1860ae9c22",
   "metadata": {},
   "outputs": [
    {
     "data": {
      "text/plain": [
       "1170593"
      ]
     },
     "execution_count": 23,
     "metadata": {},
     "output_type": "execute_result"
    }
   ],
   "source": [
    "pnl_inc"
   ]
  },
  {
   "cell_type": "code",
   "execution_count": 24,
   "id": "065c3081-b972-438c-8dff-c22367b951b4",
   "metadata": {},
   "outputs": [
    {
     "data": {
      "text/plain": [
       "-1196225"
      ]
     },
     "execution_count": 24,
     "metadata": {},
     "output_type": "execute_result"
    }
   ],
   "source": [
    "pnl_dec"
   ]
  },
  {
   "cell_type": "code",
   "execution_count": 25,
   "id": "81bf1794-6dcb-4a3e-8be4-17999ecc955f",
   "metadata": {},
   "outputs": [
    {
     "data": {
      "text/plain": [
       "86"
      ]
     },
     "execution_count": 25,
     "metadata": {},
     "output_type": "execute_result"
    }
   ],
   "source": [
    "tot_months"
   ]
  },
  {
   "cell_type": "code",
   "execution_count": 26,
   "id": "39821615-0186-4e2f-b500-5bf85c901b6d",
   "metadata": {},
   "outputs": [
    {
     "data": {
      "text/plain": [
       "'Feb-2012'"
      ]
     },
     "execution_count": 26,
     "metadata": {},
     "output_type": "execute_result"
    }
   ],
   "source": [
    "pnl_inc_month"
   ]
  },
  {
   "cell_type": "code",
   "execution_count": 27,
   "id": "dcda55ab-7976-47d0-bc3b-194ffcdfa877",
   "metadata": {},
   "outputs": [
    {
     "data": {
      "text/plain": [
       "'Sep-2013'"
      ]
     },
     "execution_count": 27,
     "metadata": {},
     "output_type": "execute_result"
    }
   ],
   "source": [
    "pnl_dec_month"
   ]
  },
  {
   "cell_type": "code",
   "execution_count": 28,
   "id": "c3de14b5-b263-4e49-b58e-7b5645c5ddc2",
   "metadata": {},
   "outputs": [
    {
     "data": {
      "text/plain": [
       "38382578"
      ]
     },
     "execution_count": 28,
     "metadata": {},
     "output_type": "execute_result"
    }
   ],
   "source": [
    "net_pnl"
   ]
  },
  {
   "cell_type": "code",
   "execution_count": 29,
   "id": "2c972732-5b39-4191-8ebe-17ff47ff3d19",
   "metadata": {},
   "outputs": [],
   "source": [
    "#uh that's not -2315...."
   ]
  },
  {
   "cell_type": "code",
   "execution_count": null,
   "id": "386e33b9-97a7-4b1e-a387-2bffbdb2e6aa",
   "metadata": {},
   "outputs": [],
   "source": []
  }
 ],
 "metadata": {
  "kernelspec": {
   "display_name": "Python 3 (ipykernel)",
   "language": "python",
   "name": "python3"
  },
  "language_info": {
   "codemirror_mode": {
    "name": "ipython",
    "version": 3
   },
   "file_extension": ".py",
   "mimetype": "text/x-python",
   "name": "python",
   "nbconvert_exporter": "python",
   "pygments_lexer": "ipython3",
   "version": "3.9.7"
  }
 },
 "nbformat": 4,
 "nbformat_minor": 5
}
