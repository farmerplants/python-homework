{
 "cells": [
  {
   "cell_type": "code",
   "execution_count": 5,
   "id": "45f39a7b-f608-4641-873c-24d32f8fedec",
   "metadata": {},
   "outputs": [],
   "source": [
    "#imports\n",
    "\n",
    "import csv\n",
    "from pathlib import Path\n",
    "import pandas as pd"
   ]
  },
  {
   "cell_type": "code",
   "execution_count": 18,
   "id": "e27a35ff-f180-4f2c-9a33-77a742377a10",
   "metadata": {},
   "outputs": [],
   "source": [
    "#csvpath\n",
    "csvpath = Path('/Users/', 'tylerhubbard', 'Downloads', 'budget_data.csv')"
   ]
  },
  {
   "cell_type": "code",
   "execution_count": 31,
   "id": "89b18ef1-f928-4b1b-bf67-29b01bc21ee4",
   "metadata": {},
   "outputs": [],
   "source": [
    "#initialize variables\n",
    "\n",
    "#total months\n",
    "tot_months = 0\n",
    "\n",
    "#net total amount of PnL over total period\n",
    "net_pnl = 0\n",
    "\n",
    "#average of the changes in PnL over total period\n",
    "#changes in PnL I think would be (PnL2-PnL1) in which PnL1 is the previous amount/PnL2 is the current amount\n",
    "#starting with second date, can't do PnL1-PnL0\n",
    "#over total period...(total(PnL2-PnL1)/(tot_months-1)) (?? or would it just be /(tot_months) ??)\n",
    "change = 0\n",
    "avg_change = 0\n",
    "pnl1 = 0\n",
    "pnl2 = 0\n",
    "\n",
    "#greatest increase/decrease in profits (date and amount) over total period\n",
    "pnl_inc = 0\n",
    "pnl_dec = 0\n",
    "pnl_inc_month = ''\n",
    "pnl_dec_month = ''\n",
    "\n",
    "#resulting analysis\n",
    "final_output = ''\n",
    "\n"
   ]
  },
  {
   "cell_type": "code",
   "execution_count": 37,
   "id": "c2a9069b-82ea-4f99-bd9f-19c1f8c32ed4",
   "metadata": {},
   "outputs": [],
   "source": [
    "#lets try again\n",
    "with open(csvpath, 'r') as csvf:\n",
    "    csvr = csv.reader(csvf, delimiter=',')\n",
    "    next(csvr)\n",
    "    for row in csvr:\n",
    "        pnl2 = int(row[1])\n",
    "        if pnl1 != 0:\n",
    "            change = pnl2 - pnl1\n",
    "            avg_change = avg_change + change\n",
    "        net_pnl = net_pnl + pnl2\n",
    "        tot_months = tot_months + 1"
   ]
  },
  {
   "cell_type": "code",
   "execution_count": 35,
   "id": "386e33b9-97a7-4b1e-a387-2bffbdb2e6aa",
   "metadata": {},
   "outputs": [],
   "source": [
    "#still gotta get the increase and decrease stuff but hey its somethin"
   ]
  },
  {
   "cell_type": "code",
   "execution_count": null,
   "id": "9e7e4756-d338-4976-b8cd-fad3092839ff",
   "metadata": {},
   "outputs": [],
   "source": []
  }
 ],
 "metadata": {
  "kernelspec": {
   "display_name": "Python 3 (ipykernel)",
   "language": "python",
   "name": "python3"
  },
  "language_info": {
   "codemirror_mode": {
    "name": "ipython",
    "version": 3
   },
   "file_extension": ".py",
   "mimetype": "text/x-python",
   "name": "python",
   "nbconvert_exporter": "python",
   "pygments_lexer": "ipython3",
   "version": "3.9.7"
  }
 },
 "nbformat": 4,
 "nbformat_minor": 5
}
