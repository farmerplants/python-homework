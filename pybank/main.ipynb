{
 "cells": [
  {
   "cell_type": "code",
   "execution_count": 100,
   "id": "0e819247-2bab-43aa-8efd-1c82287b1ccf",
   "metadata": {},
   "outputs": [],
   "source": [
    "#imports\n",
    "\n",
    "import os\n",
    "import csv\n",
    "from pathlib import Path\n",
    "import pandas as pd\n",
    "import numpy as np"
   ]
  },
  {
   "cell_type": "code",
   "execution_count": 101,
   "id": "eac62469-970a-4097-b3db-e56e3653c708",
   "metadata": {},
   "outputs": [],
   "source": [
    "#filepath\n",
    "csvpath = os.path.join(\"/Users\", \"tylerhubbard\", \"Downloads\", \"budget_data.csv\")"
   ]
  },
  {
   "cell_type": "code",
   "execution_count": 171,
   "id": "2c42b674-45b1-4d5e-9c5b-c49f50862c22",
   "metadata": {},
   "outputs": [
    {
     "data": {
      "text/html": [
       "<div>\n",
       "<style scoped>\n",
       "    .dataframe tbody tr th:only-of-type {\n",
       "        vertical-align: middle;\n",
       "    }\n",
       "\n",
       "    .dataframe tbody tr th {\n",
       "        vertical-align: top;\n",
       "    }\n",
       "\n",
       "    .dataframe thead th {\n",
       "        text-align: right;\n",
       "    }\n",
       "</style>\n",
       "<table border=\"1\" class=\"dataframe\">\n",
       "  <thead>\n",
       "    <tr style=\"text-align: right;\">\n",
       "      <th></th>\n",
       "      <th>Date</th>\n",
       "      <th>Profit/Losses</th>\n",
       "    </tr>\n",
       "  </thead>\n",
       "  <tbody>\n",
       "    <tr>\n",
       "      <th>0</th>\n",
       "      <td>Jan-2010</td>\n",
       "      <td>867884</td>\n",
       "    </tr>\n",
       "    <tr>\n",
       "      <th>1</th>\n",
       "      <td>Feb-2010</td>\n",
       "      <td>984655</td>\n",
       "    </tr>\n",
       "    <tr>\n",
       "      <th>2</th>\n",
       "      <td>Mar-2010</td>\n",
       "      <td>322013</td>\n",
       "    </tr>\n",
       "    <tr>\n",
       "      <th>3</th>\n",
       "      <td>Apr-2010</td>\n",
       "      <td>-69417</td>\n",
       "    </tr>\n",
       "    <tr>\n",
       "      <th>4</th>\n",
       "      <td>May-2010</td>\n",
       "      <td>310503</td>\n",
       "    </tr>\n",
       "  </tbody>\n",
       "</table>\n",
       "</div>"
      ],
      "text/plain": [
       "       Date  Profit/Losses\n",
       "0  Jan-2010         867884\n",
       "1  Feb-2010         984655\n",
       "2  Mar-2010         322013\n",
       "3  Apr-2010         -69417\n",
       "4  May-2010         310503"
      ]
     },
     "execution_count": 171,
     "metadata": {},
     "output_type": "execute_result"
    }
   ],
   "source": [
    "budgetdf = pd.read_csv(csvpath)\n",
    "budgetdf.head()"
   ]
  },
  {
   "cell_type": "code",
   "execution_count": 103,
   "id": "11ea0131-e858-41c5-a6bb-b737db0671b8",
   "metadata": {},
   "outputs": [
    {
     "name": "stdout",
     "output_type": "stream",
     "text": [
      "86\n"
     ]
    }
   ],
   "source": [
    "columns = ['Date', 'PnL']\n",
    "budgetdf.columns = columns\n",
    "\n",
    "#calculate the total number of months in the dataset\n",
    "total_months = budgetdf['Date'].count()\n",
    "print (total_months)"
   ]
  },
  {
   "cell_type": "code",
   "execution_count": 106,
   "id": "fc6b65b2-e4d8-4044-aad2-45b180fd162a",
   "metadata": {},
   "outputs": [
    {
     "name": "stdout",
     "output_type": "stream",
     "text": [
      "38382578\n"
     ]
    }
   ],
   "source": [
    "#calculate the net total pnl\n",
    "net_pnl = budgetdf['PnL'].sum()\n",
    "print (net_pnl)"
   ]
  },
  {
   "cell_type": "code",
   "execution_count": 107,
   "id": "851b1b84-e7a0-4a4d-b660-33b788482b4f",
   "metadata": {},
   "outputs": [
    {
     "name": "stdout",
     "output_type": "stream",
     "text": [
      "446309.0465116279\n"
     ]
    }
   ],
   "source": [
    "#calculate the average of the changes in pnl\n",
    "avg_pnl = budgetdf['PnL'].mean()\n",
    "print (avg_pnl)"
   ]
  },
  {
   "cell_type": "code",
   "execution_count": 124,
   "id": "949365fa-c683-4d93-8d3e-92db17aa7369",
   "metadata": {},
   "outputs": [
    {
     "name": "stdout",
     "output_type": "stream",
     "text": [
      "        Date      PnL\n",
      "44  Sep-2013 -1196225\n"
     ]
    }
   ],
   "source": [
    "#calculate the greatest increase (date/amt)\n",
    "pnl_inc = budgetdf[budgetdf.PnL == budgetdf.PnL.min()]\n",
    "print(pnl_inc)"
   ]
  },
  {
   "cell_type": "code",
   "execution_count": 156,
   "id": "4ddd12de-fa55-4142-8a30-d0bd7557a7bc",
   "metadata": {},
   "outputs": [
    {
     "name": "stdout",
     "output_type": "stream",
     "text": [
      "        Date      PnL\n",
      "25  Feb-2012  1170593\n"
     ]
    }
   ],
   "source": [
    "#calculate the greatest decrease (date/amt)\n",
    "pnl_dec = budgetdf[budgetdf.PnL == budgetdf.PnL.max()]\n",
    "print(pnl_dec)"
   ]
  },
  {
   "cell_type": "code",
   "execution_count": 173,
   "id": "75d6fe95-2ab1-46db-89d0-87e310501d50",
   "metadata": {},
   "outputs": [],
   "source": [
    "#I'm overthinking this I think"
   ]
  },
  {
   "cell_type": "code",
   "execution_count": null,
   "id": "c7271bf3-ef68-4588-b2e5-47d8016227b2",
   "metadata": {},
   "outputs": [],
   "source": []
  }
 ],
 "metadata": {
  "kernelspec": {
   "display_name": "Python 3 (ipykernel)",
   "language": "python",
   "name": "python3"
  },
  "language_info": {
   "codemirror_mode": {
    "name": "ipython",
    "version": 3
   },
   "file_extension": ".py",
   "mimetype": "text/x-python",
   "name": "python",
   "nbconvert_exporter": "python",
   "pygments_lexer": "ipython3",
   "version": "3.9.7"
  }
 },
 "nbformat": 4,
 "nbformat_minor": 5
}
